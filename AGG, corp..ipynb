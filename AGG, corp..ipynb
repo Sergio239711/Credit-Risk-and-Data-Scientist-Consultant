{
 "cells": [
  {
   "cell_type": "code",
   "execution_count": 2,
   "id": "515d4131",
   "metadata": {},
   "outputs": [],
   "source": [
    "import pandas as pd\n",
    "import numpy as np\n",
    "import seaborn as sns\n",
    "import matplotlib.pyplot as plt\n",
    "from matplotlib import pyplot\n",
    "import limpieza\n",
    "import Outliers"
   ]
  },
  {
   "cell_type": "code",
   "execution_count": 3,
   "id": "42c4d090",
   "metadata": {},
   "outputs": [],
   "source": [
    "df= pd.read_csv('D:\\Documentos\\projects\\AGG,corp.csv')"
   ]
  },
  {
   "cell_type": "code",
   "execution_count": 4,
   "id": "adb85796",
   "metadata": {},
   "outputs": [
    {
     "data": {
      "text/html": [
       "<div>\n",
       "<style scoped>\n",
       "    .dataframe tbody tr th:only-of-type {\n",
       "        vertical-align: middle;\n",
       "    }\n",
       "\n",
       "    .dataframe tbody tr th {\n",
       "        vertical-align: top;\n",
       "    }\n",
       "\n",
       "    .dataframe thead th {\n",
       "        text-align: right;\n",
       "    }\n",
       "</style>\n",
       "<table border=\"1\" class=\"dataframe\">\n",
       "  <thead>\n",
       "    <tr style=\"text-align: right;\">\n",
       "      <th></th>\n",
       "      <th>Credit_Score</th>\n",
       "      <th>Income</th>\n",
       "      <th>Loan_Amount</th>\n",
       "      <th>Interest_Rate</th>\n",
       "      <th>Loan_to_Value_Ratio</th>\n",
       "      <th>Employment_Status</th>\n",
       "      <th>Education_Level</th>\n",
       "      <th>Marital_Status</th>\n",
       "      <th>Loan_Purpose</th>\n",
       "      <th>Region</th>\n",
       "      <th>Default_60</th>\n",
       "    </tr>\n",
       "  </thead>\n",
       "  <tbody>\n",
       "    <tr>\n",
       "      <th>0</th>\n",
       "      <td>724</td>\n",
       "      <td>39822</td>\n",
       "      <td>16741</td>\n",
       "      <td>1.038856</td>\n",
       "      <td>0.605628</td>\n",
       "      <td>Self-Employed</td>\n",
       "      <td>High School</td>\n",
       "      <td>Divorced</td>\n",
       "      <td>Home</td>\n",
       "      <td>West</td>\n",
       "      <td>0</td>\n",
       "    </tr>\n",
       "    <tr>\n",
       "      <th>1</th>\n",
       "      <td>693</td>\n",
       "      <td>45417</td>\n",
       "      <td>16416</td>\n",
       "      <td>2.890029</td>\n",
       "      <td>0.902540</td>\n",
       "      <td>Employed</td>\n",
       "      <td>Graduate School</td>\n",
       "      <td>Divorced</td>\n",
       "      <td>Personal</td>\n",
       "      <td>East</td>\n",
       "      <td>0</td>\n",
       "    </tr>\n",
       "    <tr>\n",
       "      <th>2</th>\n",
       "      <td>732</td>\n",
       "      <td>41039</td>\n",
       "      <td>10317</td>\n",
       "      <td>3.825943</td>\n",
       "      <td>0.660363</td>\n",
       "      <td>Unemployed</td>\n",
       "      <td>High School</td>\n",
       "      <td>Married</td>\n",
       "      <td>Personal</td>\n",
       "      <td>North</td>\n",
       "      <td>0</td>\n",
       "    </tr>\n",
       "    <tr>\n",
       "      <th>3</th>\n",
       "      <td>776</td>\n",
       "      <td>51656</td>\n",
       "      <td>17897</td>\n",
       "      <td>5.299338</td>\n",
       "      <td>0.718114</td>\n",
       "      <td>Self-Employed</td>\n",
       "      <td>College</td>\n",
       "      <td>Divorced</td>\n",
       "      <td>Auto</td>\n",
       "      <td>West</td>\n",
       "      <td>1</td>\n",
       "    </tr>\n",
       "    <tr>\n",
       "      <th>4</th>\n",
       "      <td>688</td>\n",
       "      <td>67957</td>\n",
       "      <td>7549</td>\n",
       "      <td>7.048325</td>\n",
       "      <td>0.843478</td>\n",
       "      <td>Unemployed</td>\n",
       "      <td>Graduate School</td>\n",
       "      <td>Married</td>\n",
       "      <td>Education</td>\n",
       "      <td>South</td>\n",
       "      <td>1</td>\n",
       "    </tr>\n",
       "  </tbody>\n",
       "</table>\n",
       "</div>"
      ],
      "text/plain": [
       "   Credit_Score  Income  Loan_Amount  Interest_Rate  Loan_to_Value_Ratio  \\\n",
       "0           724   39822        16741       1.038856             0.605628   \n",
       "1           693   45417        16416       2.890029             0.902540   \n",
       "2           732   41039        10317       3.825943             0.660363   \n",
       "3           776   51656        17897       5.299338             0.718114   \n",
       "4           688   67957         7549       7.048325             0.843478   \n",
       "\n",
       "  Employment_Status  Education_Level Marital_Status Loan_Purpose Region  \\\n",
       "0     Self-Employed      High School       Divorced         Home   West   \n",
       "1          Employed  Graduate School       Divorced     Personal   East   \n",
       "2        Unemployed      High School        Married     Personal  North   \n",
       "3     Self-Employed          College       Divorced         Auto   West   \n",
       "4        Unemployed  Graduate School        Married    Education  South   \n",
       "\n",
       "   Default_60  \n",
       "0           0  \n",
       "1           0  \n",
       "2           0  \n",
       "3           1  \n",
       "4           1  "
      ]
     },
     "execution_count": 4,
     "metadata": {},
     "output_type": "execute_result"
    }
   ],
   "source": [
    "df.head()"
   ]
  },
  {
   "cell_type": "code",
   "execution_count": 5,
   "id": "453460e5",
   "metadata": {},
   "outputs": [
    {
     "data": {
      "text/plain": [
       "0    5923\n",
       "1    4077\n",
       "Name: Default_60, dtype: int64"
      ]
     },
     "execution_count": 5,
     "metadata": {},
     "output_type": "execute_result"
    }
   ],
   "source": [
    "df['Default_60'].value_counts()"
   ]
  },
  {
   "cell_type": "code",
   "execution_count": 6,
   "id": "3cc24b20",
   "metadata": {},
   "outputs": [
    {
     "data": {
      "text/plain": [
       "Credit_Score           0\n",
       "Income                 0\n",
       "Loan_Amount            0\n",
       "Interest_Rate          0\n",
       "Loan_to_Value_Ratio    0\n",
       "Employment_Status      0\n",
       "Education_Level        0\n",
       "Marital_Status         0\n",
       "Loan_Purpose           0\n",
       "Region                 0\n",
       "Default_60             0\n",
       "dtype: int64"
      ]
     },
     "execution_count": 6,
     "metadata": {},
     "output_type": "execute_result"
    }
   ],
   "source": [
    "limpieza.nan(df)"
   ]
  },
  {
   "cell_type": "code",
   "execution_count": 7,
   "id": "3a1e0cae",
   "metadata": {},
   "outputs": [
    {
     "name": "stderr",
     "output_type": "stream",
     "text": [
      "D:\\Anaconda\\lib\\site-packages\\scipy\\stats\\morestats.py:1760: UserWarning: p-value may not be accurate for N > 5000.\n",
      "  warnings.warn(\"p-value may not be accurate for N > 5000.\")\n"
     ]
    },
    {
     "data": {
      "text/plain": [
       "{'Credit_Score': (0.9999103546142578, 0.9845864176750183),\n",
       " 'Income': (0.9997838139533997, 0.42200833559036255),\n",
       " 'Loan_Amount': (0.9997894167900085, 0.4494999647140503),\n",
       " 'Interest_Rate': (0.9998947978019714, 0.9583451151847839),\n",
       " 'Loan_to_Value_Ratio': (0.9997967481613159, 0.4873877465724945),\n",
       " 'Default_60': (0.624120831489563, 0.0)}"
      ]
     },
     "execution_count": 7,
     "metadata": {},
     "output_type": "execute_result"
    }
   ],
   "source": [
    "limpieza.shapiro(df)\n",
    "#Mediante la prueba Shapiro podemos deducir que nuestros datos si cuentan con una distribución normal."
   ]
  },
  {
   "cell_type": "code",
   "execution_count": 8,
   "id": "f20e1117",
   "metadata": {},
   "outputs": [
    {
     "data": {
      "text/plain": [
       "array([[<AxesSubplot:title={'center':'Credit_Score'}>,\n",
       "        <AxesSubplot:title={'center':'Income'}>],\n",
       "       [<AxesSubplot:title={'center':'Loan_Amount'}>,\n",
       "        <AxesSubplot:title={'center':'Interest_Rate'}>],\n",
       "       [<AxesSubplot:title={'center':'Loan_to_Value_Ratio'}>,\n",
       "        <AxesSubplot:title={'center':'Default_60'}>]], dtype=object)"
      ]
     },
     "execution_count": 8,
     "metadata": {},
     "output_type": "execute_result"
    },
    {
     "data": {
      "image/png": "[encoded data removed]",
      "text/plain": [
       "<Figure size 720x720 with 6 Axes>"
      ]
     },
     "metadata": {
      "needs_background": "light"
     },
     "output_type": "display_data"
    }
   ],
   "source": [
    "df.hist(figsize=(10,10))\n",
    "#Podemos apreciar la distribución normal de nuestras variables numericas en los histogramas. \n",
    "#Por ende utilizaremos el modulo de \"limpieza.robustoutliers\"\n",
    "#Dicho metodo es de rango intercuantil, modificando el umbral a 3.5."
   ]
  },
  {
   "cell_type": "code",
   "execution_count": 9,
   "id": "34e3ec98",
   "metadata": {},
   "outputs": [
    {
     "data": {
      "text/plain": [
       "Series([], Name: Credit_Score, dtype: int64)"
      ]
     },
     "execution_count": 9,
     "metadata": {},
     "output_type": "execute_result"
    }
   ],
   "source": [
    "Outliers.robustoutlier(df,'Credit_Score')"
   ]
  },
  {
   "cell_type": "code",
   "execution_count": 10,
   "id": "230ac320",
   "metadata": {},
   "outputs": [
    {
     "data": {
      "text/plain": [
       "Series([], Name: Income, dtype: int64)"
      ]
     },
     "execution_count": 10,
     "metadata": {},
     "output_type": "execute_result"
    }
   ],
   "source": [
    "Outliers.robustoutlier(df,'Income')"
   ]
  },
  {
   "cell_type": "code",
   "execution_count": 11,
   "id": "ad6d6c64",
   "metadata": {},
   "outputs": [
    {
     "data": {
      "text/plain": [
       "Series([], Name: Loan_to_Value_Ratio, dtype: float64)"
      ]
     },
     "execution_count": 11,
     "metadata": {},
     "output_type": "execute_result"
    }
   ],
   "source": [
    "Outliers.robustoutlier(df,'Loan_to_Value_Ratio')"
   ]
  },
  {
   "cell_type": "code",
   "execution_count": 12,
   "id": "2ae115ff",
   "metadata": {},
   "outputs": [
    {
     "data": {
      "text/plain": [
       "Series([], Name: Loan_Amount, dtype: int64)"
      ]
     },
     "execution_count": 12,
     "metadata": {},
     "output_type": "execute_result"
    }
   ],
   "source": [
    "Outliers.robustoutlier(df,'Loan_Amount')"
   ]
  },
  {
   "cell_type": "code",
   "execution_count": 13,
   "id": "4207fae4",
   "metadata": {},
   "outputs": [
    {
     "data": {
      "text/plain": [
       "Series([], Name: Interest_Rate, dtype: float64)"
      ]
     },
     "execution_count": 13,
     "metadata": {},
     "output_type": "execute_result"
    }
   ],
   "source": [
    "Outliers.robustoutlier(df,'Interest_Rate')"
   ]
  },
  {
   "cell_type": "code",
   "execution_count": null,
   "id": "5ff047a5",
   "metadata": {},
   "outputs": [],
   "source": []
  }
 ],
 "metadata": {
  "kernelspec": {
   "display_name": "Python 3 (ipykernel)",
   "language": "python",
   "name": "python3"
  },
  "language_info": {
   "codemirror_mode": {
    "name": "ipython",
    "version": 3
   },
   "file_extension": ".py",
   "mimetype": "text/x-python",
   "name": "python",
   "nbconvert_exporter": "python",
   "pygments_lexer": "ipython3",
   "version": "3.9.7"
  }
 },
 "nbformat": 4,
 "nbformat_minor": 5
}
